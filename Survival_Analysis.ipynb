{
 "cells": [
  {
   "cell_type": "markdown",
   "id": "b2838ac5",
   "metadata": {},
   "source": [
    "#!pip install lifelines"
   ]
  },
  {
   "cell_type": "code",
   "execution_count": 2,
   "id": "ab907a48",
   "metadata": {},
   "outputs": [],
   "source": [
    "import pandas as pd\n",
    "from lifelines import KaplanMeierFitter"
   ]
  },
  {
   "cell_type": "code",
   "execution_count": 3,
   "id": "27132103",
   "metadata": {},
   "outputs": [
    {
     "data": {
      "text/html": [
       "<div>\n",
       "<style scoped>\n",
       "    .dataframe tbody tr th:only-of-type {\n",
       "        vertical-align: middle;\n",
       "    }\n",
       "\n",
       "    .dataframe tbody tr th {\n",
       "        vertical-align: top;\n",
       "    }\n",
       "\n",
       "    .dataframe thead th {\n",
       "        text-align: right;\n",
       "    }\n",
       "</style>\n",
       "<table border=\"1\" class=\"dataframe\">\n",
       "  <thead>\n",
       "    <tr style=\"text-align: right;\">\n",
       "      <th></th>\n",
       "      <th>spell</th>\n",
       "      <th>event</th>\n",
       "      <th>ui</th>\n",
       "      <th>logwage</th>\n",
       "      <th>age</th>\n",
       "    </tr>\n",
       "  </thead>\n",
       "  <tbody>\n",
       "    <tr>\n",
       "      <th>0</th>\n",
       "      <td>5</td>\n",
       "      <td>1</td>\n",
       "      <td>0</td>\n",
       "      <td>6.89568</td>\n",
       "      <td>41</td>\n",
       "    </tr>\n",
       "    <tr>\n",
       "      <th>1</th>\n",
       "      <td>13</td>\n",
       "      <td>1</td>\n",
       "      <td>1</td>\n",
       "      <td>5.28827</td>\n",
       "      <td>30</td>\n",
       "    </tr>\n",
       "    <tr>\n",
       "      <th>2</th>\n",
       "      <td>21</td>\n",
       "      <td>1</td>\n",
       "      <td>1</td>\n",
       "      <td>6.76734</td>\n",
       "      <td>36</td>\n",
       "    </tr>\n",
       "    <tr>\n",
       "      <th>3</th>\n",
       "      <td>3</td>\n",
       "      <td>1</td>\n",
       "      <td>1</td>\n",
       "      <td>5.97889</td>\n",
       "      <td>26</td>\n",
       "    </tr>\n",
       "    <tr>\n",
       "      <th>4</th>\n",
       "      <td>9</td>\n",
       "      <td>0</td>\n",
       "      <td>1</td>\n",
       "      <td>6.31536</td>\n",
       "      <td>22</td>\n",
       "    </tr>\n",
       "    <tr>\n",
       "      <th>...</th>\n",
       "      <td>...</td>\n",
       "      <td>...</td>\n",
       "      <td>...</td>\n",
       "      <td>...</td>\n",
       "      <td>...</td>\n",
       "    </tr>\n",
       "    <tr>\n",
       "      <th>3338</th>\n",
       "      <td>11</td>\n",
       "      <td>0</td>\n",
       "      <td>1</td>\n",
       "      <td>5.69373</td>\n",
       "      <td>41</td>\n",
       "    </tr>\n",
       "    <tr>\n",
       "      <th>3339</th>\n",
       "      <td>4</td>\n",
       "      <td>0</td>\n",
       "      <td>1</td>\n",
       "      <td>5.92959</td>\n",
       "      <td>27</td>\n",
       "    </tr>\n",
       "    <tr>\n",
       "      <th>3340</th>\n",
       "      <td>5</td>\n",
       "      <td>0</td>\n",
       "      <td>1</td>\n",
       "      <td>5.80513</td>\n",
       "      <td>30</td>\n",
       "    </tr>\n",
       "    <tr>\n",
       "      <th>3341</th>\n",
       "      <td>1</td>\n",
       "      <td>1</td>\n",
       "      <td>0</td>\n",
       "      <td>5.24175</td>\n",
       "      <td>29</td>\n",
       "    </tr>\n",
       "    <tr>\n",
       "      <th>3342</th>\n",
       "      <td>8</td>\n",
       "      <td>1</td>\n",
       "      <td>1</td>\n",
       "      <td>7.49554</td>\n",
       "      <td>36</td>\n",
       "    </tr>\n",
       "  </tbody>\n",
       "</table>\n",
       "<p>3343 rows × 5 columns</p>\n",
       "</div>"
      ],
      "text/plain": [
       "      spell  event  ui  logwage  age\n",
       "0         5      1   0  6.89568   41\n",
       "1        13      1   1  5.28827   30\n",
       "2        21      1   1  6.76734   36\n",
       "3         3      1   1  5.97889   26\n",
       "4         9      0   1  6.31536   22\n",
       "...     ...    ...  ..      ...  ...\n",
       "3338     11      0   1  5.69373   41\n",
       "3339      4      0   1  5.92959   27\n",
       "3340      5      0   1  5.80513   30\n",
       "3341      1      1   0  5.24175   29\n",
       "3342      8      1   1  7.49554   36\n",
       "\n",
       "[3343 rows x 5 columns]"
      ]
     },
     "execution_count": 3,
     "metadata": {},
     "output_type": "execute_result"
    }
   ],
   "source": [
    "# Loading the survival un-employment data\n",
    "survival_umemp = pd.read_csv('C:/Users\\Moin Dalvi\\Documents\\Data Science Material\\Data Science\\Python\\Datasets/survival_unemployment.csv')\n",
    "survival_umemp"
   ]
  },
  {
   "cell_type": "markdown",
   "id": "673ea49e",
   "metadata": {},
   "source": [
    "### Data info:\n",
    "+ spell: is the time period when the unemployed got new employment\n",
    "+ event: of the employment\n",
    "+ ui: the if the umployed had insurance or not"
   ]
  },
  {
   "cell_type": "code",
   "execution_count": 4,
   "id": "b9763ed4",
   "metadata": {},
   "outputs": [
    {
     "name": "stdout",
     "output_type": "stream",
     "text": [
      "<class 'pandas.core.frame.DataFrame'>\n",
      "RangeIndex: 3343 entries, 0 to 3342\n",
      "Data columns (total 5 columns):\n",
      " #   Column   Non-Null Count  Dtype  \n",
      "---  ------   --------------  -----  \n",
      " 0   spell    3343 non-null   int64  \n",
      " 1   event    3343 non-null   int64  \n",
      " 2   ui       3343 non-null   int64  \n",
      " 3   logwage  3343 non-null   float64\n",
      " 4   age      3343 non-null   int64  \n",
      "dtypes: float64(1), int64(4)\n",
      "memory usage: 130.7 KB\n"
     ]
    }
   ],
   "source": [
    "survival_umemp.info()"
   ]
  },
  {
   "cell_type": "code",
   "execution_count": 5,
   "id": "50b605ec",
   "metadata": {},
   "outputs": [
    {
     "data": {
      "text/html": [
       "<div>\n",
       "<style scoped>\n",
       "    .dataframe tbody tr th:only-of-type {\n",
       "        vertical-align: middle;\n",
       "    }\n",
       "\n",
       "    .dataframe tbody tr th {\n",
       "        vertical-align: top;\n",
       "    }\n",
       "\n",
       "    .dataframe thead th {\n",
       "        text-align: right;\n",
       "    }\n",
       "</style>\n",
       "<table border=\"1\" class=\"dataframe\">\n",
       "  <thead>\n",
       "    <tr style=\"text-align: right;\">\n",
       "      <th></th>\n",
       "      <th>spell</th>\n",
       "      <th>event</th>\n",
       "      <th>ui</th>\n",
       "      <th>logwage</th>\n",
       "      <th>age</th>\n",
       "    </tr>\n",
       "  </thead>\n",
       "  <tbody>\n",
       "    <tr>\n",
       "      <th>count</th>\n",
       "      <td>3343.000000</td>\n",
       "      <td>3343.000000</td>\n",
       "      <td>3343.000000</td>\n",
       "      <td>3343.000000</td>\n",
       "      <td>3343.000000</td>\n",
       "    </tr>\n",
       "    <tr>\n",
       "      <th>mean</th>\n",
       "      <td>6.247981</td>\n",
       "      <td>0.320969</td>\n",
       "      <td>0.552797</td>\n",
       "      <td>5.692994</td>\n",
       "      <td>35.443314</td>\n",
       "    </tr>\n",
       "    <tr>\n",
       "      <th>std</th>\n",
       "      <td>5.611271</td>\n",
       "      <td>0.466919</td>\n",
       "      <td>0.497279</td>\n",
       "      <td>0.535659</td>\n",
       "      <td>10.640204</td>\n",
       "    </tr>\n",
       "    <tr>\n",
       "      <th>min</th>\n",
       "      <td>1.000000</td>\n",
       "      <td>0.000000</td>\n",
       "      <td>0.000000</td>\n",
       "      <td>2.708050</td>\n",
       "      <td>20.000000</td>\n",
       "    </tr>\n",
       "    <tr>\n",
       "      <th>25%</th>\n",
       "      <td>2.000000</td>\n",
       "      <td>0.000000</td>\n",
       "      <td>0.000000</td>\n",
       "      <td>5.298320</td>\n",
       "      <td>27.000000</td>\n",
       "    </tr>\n",
       "    <tr>\n",
       "      <th>50%</th>\n",
       "      <td>5.000000</td>\n",
       "      <td>0.000000</td>\n",
       "      <td>1.000000</td>\n",
       "      <td>5.676750</td>\n",
       "      <td>34.000000</td>\n",
       "    </tr>\n",
       "    <tr>\n",
       "      <th>75%</th>\n",
       "      <td>9.000000</td>\n",
       "      <td>1.000000</td>\n",
       "      <td>1.000000</td>\n",
       "      <td>6.052090</td>\n",
       "      <td>43.000000</td>\n",
       "    </tr>\n",
       "    <tr>\n",
       "      <th>max</th>\n",
       "      <td>28.000000</td>\n",
       "      <td>1.000000</td>\n",
       "      <td>1.000000</td>\n",
       "      <td>7.600400</td>\n",
       "      <td>61.000000</td>\n",
       "    </tr>\n",
       "  </tbody>\n",
       "</table>\n",
       "</div>"
      ],
      "text/plain": [
       "             spell        event           ui      logwage          age\n",
       "count  3343.000000  3343.000000  3343.000000  3343.000000  3343.000000\n",
       "mean      6.247981     0.320969     0.552797     5.692994    35.443314\n",
       "std       5.611271     0.466919     0.497279     0.535659    10.640204\n",
       "min       1.000000     0.000000     0.000000     2.708050    20.000000\n",
       "25%       2.000000     0.000000     0.000000     5.298320    27.000000\n",
       "50%       5.000000     0.000000     1.000000     5.676750    34.000000\n",
       "75%       9.000000     1.000000     1.000000     6.052090    43.000000\n",
       "max      28.000000     1.000000     1.000000     7.600400    61.000000"
      ]
     },
     "execution_count": 5,
     "metadata": {},
     "output_type": "execute_result"
    }
   ],
   "source": [
    "survival_umemp.describe()"
   ]
  },
  {
   "cell_type": "code",
   "execution_count": 6,
   "id": "e370c786",
   "metadata": {},
   "outputs": [
    {
     "data": {
      "text/plain": [
       "count    3343.000000\n",
       "mean        6.247981\n",
       "std         5.611271\n",
       "min         1.000000\n",
       "25%         2.000000\n",
       "50%         5.000000\n",
       "75%         9.000000\n",
       "max        28.000000\n",
       "Name: spell, dtype: float64"
      ]
     },
     "execution_count": 6,
     "metadata": {},
     "output_type": "execute_result"
    }
   ],
   "source": [
    "survival_umemp[\"spell\"].describe()"
   ]
  },
  {
   "cell_type": "code",
   "execution_count": 7,
   "id": "28a71849",
   "metadata": {},
   "outputs": [],
   "source": [
    "# Spell is referring to time here\n",
    "T = survival_umemp.spell"
   ]
  },
  {
   "cell_type": "code",
   "execution_count": 8,
   "id": "3e0d4e82",
   "metadata": {},
   "outputs": [],
   "source": [
    "# Initaiting the KaplanMeierFitter model\n",
    "kmf = KaplanMeierFitter()"
   ]
  },
  {
   "cell_type": "code",
   "execution_count": 9,
   "id": "4f231626",
   "metadata": {},
   "outputs": [
    {
     "data": {
      "text/plain": [
       "<AxesSubplot:xlabel='timeline'>"
      ]
     },
     "execution_count": 9,
     "metadata": {},
     "output_type": "execute_result"
    },
    {
     "data": {
      "image/png": "[encoded data removed]",
      "text/plain": [
       "<Figure size 432x288 with 1 Axes>"
      ]
     },
     "metadata": {
      "needs_background": "light"
     },
     "output_type": "display_data"
    }
   ],
   "source": [
    "# Fitting the KaplnaMeirFitter model on Time and Events\n",
    "kmf.fit(T,event_observed=survival_umemp.event)\n",
    "# Time-line estimations plot\n",
    "kmf.plot()"
   ]
  },
  {
   "cell_type": "code",
   "execution_count": 10,
   "id": "85178ef6",
   "metadata": {},
   "outputs": [
    {
     "data": {
      "text/plain": [
       "1    1848\n",
       "0    1495\n",
       "Name: ui, dtype: int64"
      ]
     },
     "execution_count": 10,
     "metadata": {},
     "output_type": "execute_result"
    }
   ],
   "source": [
    "# Over Multiple groups \n",
    "# For each group, here group is ui\n",
    "survival_umemp.ui.value_counts()"
   ]
  },
  {
   "cell_type": "markdown",
   "id": "b129df0d",
   "metadata": {},
   "source": [
    "#### more than 50% had insurance after unemployment"
   ]
  },
  {
   "cell_type": "code",
   "execution_count": 11,
   "id": "9e5ca221",
   "metadata": {},
   "outputs": [
    {
     "data": {
      "image/png": "[encoded data removed]",
      "text/plain": [
       "<Figure size 432x288 with 1 Axes>"
      ]
     },
     "metadata": {
      "needs_background": "light"
     },
     "output_type": "display_data"
    }
   ],
   "source": [
    "# Applying KaplanMeierFitter model on Time and Events for the group \"1\"\n",
    "kmf.fit(T[survival_umemp.ui==1], survival_umemp.event[survival_umemp.ui==1], label='1')\n",
    "ax = kmf.plot()\n",
    "\n",
    "# Applying KaplanMeierFitter model on Time and Events for the group \"0\"\n",
    "kmf.fit(T[survival_umemp.ui==0], survival_umemp.event[survival_umemp.ui==0], label='0')\n",
    "ax = kmf.plot()"
   ]
  },
  {
   "cell_type": "code",
   "execution_count": null,
   "id": "06b79f8b",
   "metadata": {},
   "outputs": [],
   "source": []
  }
 ],
 "metadata": {
  "kernelspec": {
   "display_name": "Python 3 (ipykernel)",
   "language": "python",
   "name": "python3"
  },
  "language_info": {
   "codemirror_mode": {
    "name": "ipython",
    "version": 3
   },
   "file_extension": ".py",
   "mimetype": "text/x-python",
   "name": "python",
   "nbconvert_exporter": "python",
   "pygments_lexer": "ipython3",
   "version": "3.9.12"
  }
 },
 "nbformat": 4,
 "nbformat_minor": 5
}
